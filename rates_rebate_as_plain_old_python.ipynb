{
 "cells": [
  {
   "cell_type": "markdown",
   "metadata": {},
   "source": [
    "# Rates rebate legislation as code\n",
    "\n",
    "Using the documentation [here](https://docs.google.com/document/d/1b4RxWRqXb65X2POi4NMRMMrSMJQ3bgKO9SgRGjJev8E/edit) as a basis for implementing literate python for the implementation of the rates rebate calculation.\n",
    "\n"
   ]
  },
  {
   "cell_type": "markdown",
   "metadata": {},
   "source": [
    "### _Relevant date_ means:\n",
    "\n",
    "The commencement of the rating year in respect of which an application for a  subsidy under this Act is made\n",
    "The date at the commencement of the rating year is 1 July of the rating year.\n",
    "\n"
   ]
  },
  {
   "cell_type": "code",
   "execution_count": 105,
   "metadata": {},
   "outputs": [],
   "source": [
    "from datetime import date\n",
    "# TODO fix bug. if the date is 23rd feb 2018 then this should return 1 july 2017\n",
    "relevant_date = date(date.today().year, 7, 1)"
   ]
  },
  {
   "cell_type": "markdown",
   "metadata": {},
   "source": [
    "### _Residential Property_ means:\n",
    "\n",
    "A rating unit under the Local Government (Rating) Act 2002 that is not used principally for commercial or industrial or business or farming purposes\n"
   ]
  },
  {
   "cell_type": "code",
   "execution_count": 106,
   "metadata": {},
   "outputs": [],
   "source": [
    "is_residential_property = True"
   ]
  },
  {
   "cell_type": "markdown",
   "metadata": {},
   "source": [
    "### Subsidy means:\n",
    "\n",
    "1. A rates subsidy. See the [application definition](rates_rebate_as_plain_old_python.ipynb#Application-for-a-rates-subsidy-means)\n",
    "2. A retirement village subsidy. See the [application definition](rates_rebate_as_plain_old_python.ipynb#Application-for-a-retirement-village-subsidy-means)"
   ]
  },
  {
   "cell_type": "code",
   "execution_count": 107,
   "metadata": {},
   "outputs": [],
   "source": [
    "# In code we represent these two possible outcomes as a boolean.\n",
    "# Lesson learned: if the policy intent is to provide a subsidy \n",
    "# with additional methods, a more expressive type will need to be used.\n",
    "is_retirement_subsidy = False"
   ]
  },
  {
   "cell_type": "markdown",
   "metadata": {},
   "source": [
    "### _Ratepayer_ means:\n",
    "\n",
    "At the _relevant date_\n",
    "\n",
    "1. A person is the ratepayer of a property if the person appears as the ratepayer on the rating register of the council the person applies to.\n",
    "\n",
    "**OR**\n",
    "\n",
    "2. A person is the ratepayer of a property if the person lives in a retirement home.\n",
    "\n",
    "**TODO** refering to a retirement village as a ratepayer doesn't make sense anymore"
   ]
  },
  {
   "cell_type": "code",
   "execution_count": 108,
   "metadata": {},
   "outputs": [],
   "source": [
    "is_ratepayer = True\n",
    "is_retirement_vilage_resident = False\n"
   ]
  },
  {
   "cell_type": "markdown",
   "metadata": {},
   "source": [
    "### Usual place of residence\n",
    "At the [relevant date](rates_rebate_as_plain_old_python.ipynb#Relevant-date-means:) the person is living at the residential property which they are claiming rates for"
   ]
  },
  {
   "cell_type": "code",
   "execution_count": 109,
   "metadata": {},
   "outputs": [],
   "source": [
    "usual_place_of_residence = True"
   ]
  },
  {
   "cell_type": "markdown",
   "metadata": {},
   "source": [
    "### _Application for a rates subsidy_ means\n",
    "\n",
    "A person may apply for a rates subsidy if, on the _relevant date_:\n",
    "\n",
    "1. the person is a ratepayer; and\n",
    "2. the property for which the rates are paid is a residential property; and\n",
    "3. the property is the usual place of residence of the ratepayer.\n"
   ]
  },
  {
   "cell_type": "code",
   "execution_count": 122,
   "metadata": {},
   "outputs": [],
   "source": [
    "is_eligible = False\n",
    "if is_ratepayer and is_residential_property and usual_place_of_residence:\n",
    "    is_retirement_subsidy = False\n",
    "    is_eligible = True\n"
   ]
  },
  {
   "cell_type": "markdown",
   "metadata": {},
   "source": [
    "### _Application for a retirement village subsidy_ means\n",
    "\n",
    "A person may apply for a retirement village subsidy if, on the relevant date, the person -\n",
    "\n",
    "1. is a resident of a retirement village; and\n",
    "2. has a residential unit in the retirement village that is not separately rated; and\n",
    "3. contributes to the outgoings of the retirement village.\n"
   ]
  },
  {
   "cell_type": "code",
   "execution_count": 124,
   "metadata": {},
   "outputs": [],
   "source": [
    "has_residential_unit = False #todo define/move elsewhere\n",
    "if is_retirement_vilage_resident and has_residential_unit and contributes_to_outgoings_of_retirement_village:\n",
    "    is_eligible = True\n",
    "    is_retirement_subsidy = True\n",
    "    "
   ]
  },
  {
   "cell_type": "markdown",
   "metadata": {},
   "source": [
    "### _Number of dependants_ means\n",
    "\n",
    "1. a child who, on the relevant date, -\n",
    "```\n",
    "    a. is under 18 years of age; and\n",
    "    b. ordinately resides at the property; and\n",
    "    c. etc\n",
    "```\n",
    "2. a person who, on the relevant date, - \n",
    "```\n",
    "    a. is related by blood, marriage, etc; and\n",
    "    b. receives a social security benefit under the Social Security Act 1964; and \n",
    "    c. is ordinarily resident at the property; and\n",
    "    d. is not a child, spouse or partner of the ratepayer or resident (as applicable)\n",
    "```\n",
    "\n",
    "**Technical notes**\n",
    "\n",
    "- represent this as a number, for the purpose of our demonstration we felt this detail.\n",
    "- the number of depandants is determined by local government and supplied via data access layer to DIA"
   ]
  },
  {
   "cell_type": "code",
   "execution_count": 120,
   "metadata": {},
   "outputs": [],
   "source": [
    "number_of_dependants = 0"
   ]
  },
  {
   "cell_type": "markdown",
   "metadata": {},
   "source": [
    "### _Payment made_ means\n",
    "\n",
    "1. for a ratepayer, the amount of the rates payable for the year.\n",
    "\n",
    "2. for a resident, either-\n",
    "\n",
    "    a. that part of the resident’s contribution to the outgoings of the retirement village that is made specifically towards the rates payable in respect of the retirement village; or\n",
    "\n",
    "    b. if no part of the resident’s annual contribution to the outgoings of the retirement village is specifically made in respect of rates, then the resident is deemed to have contributed in respect of rates an amount that bears to the total amount of rates payable in respect of the retirement village the same proportion as the amount of the resident’s contribution bears to the total amount of the contributions of all the residents of the retirement village\n",
    "\n",
    "\n",
    "**Technical notes**\n",
    "\n",
    "1. For retrieving the amount of rates, it makes senes for this to come from a data access layer provided by local government organizations.\n",
    "2. For a resident of a retirement village, the data access layer should be provided by MBIE as per retirements villages act 2003."
   ]
  },
  {
   "cell_type": "code",
   "execution_count": 126,
   "metadata": {},
   "outputs": [],
   "source": [
    "# TODO: check to see if retirment_resident to determine where data comes from\n",
    "if is_retirement_subsidy:\n",
    "#     fetch from MBIE\n",
    "    pass\n",
    "else:\n",
    "#     fetch from local govt\n",
    "    pass\n",
    "amount_of_rates = 4500"
   ]
  },
  {
   "cell_type": "markdown",
   "metadata": {},
   "source": [
    "### _Income_ means:\n",
    "\n",
    "1. for a ratepayer, [to be taken from the definition of income in section 2(1) of the Rates Rebate Act 1973]\n",
    "2. for a resident of a retirement village, [to be taken from the definition of income in section 2(1) of the Rates Rebate Act 1973, but amended as set out in section 7A(3) of that Act]\n",
    "\n",
    "**Technical Notes**\n",
    "\n",
    "1. for a ratepayer, data is the responsibility of local government\n",
    "2. for a resident of a retirement village data is the responsibility of MBIE\n"
   ]
  },
  {
   "cell_type": "code",
   "execution_count": 131,
   "metadata": {},
   "outputs": [],
   "source": [
    "household_income = 45000"
   ]
  },
  {
   "cell_type": "markdown",
   "metadata": {},
   "source": [
    "### _Rates calculation_ means:\n",
    "\n",
    "\n",
    "The amount of subsidy a person is entitled to is calculated in accordance with the following formula:\n",
    "\n",
    "```\n",
    "Rates subsidy = household income - baserate / dependents.number * 10% * rates\n",
    "```\n",
    "\n",
    "**Technical notes**\n",
    "- Baserate is a constant 15,000\n",
    "- This is an approximation of the subsidy calculation used for the purpose of the 'better rules' investigation.\n",
    "- In the technical model this calculation would be provided by DIA\n",
    "- In the technical model this would be called by local govenment\n",
    "- In the technical model the calculation result would need verification from the local government so that funds can be released from central government to local government"
   ]
  },
  {
   "cell_type": "code",
   "execution_count": 135,
   "metadata": {},
   "outputs": [],
   "source": [
    "base_rate = 15000\n",
    "def rate_subsidy_calculation(household_income, dependants_number, rate):\n",
    "    # don't divide by 0\n",
    "    rate = max(1, rate)\n",
    "    dependants_number = max(1, dependants_number) \n",
    "\n",
    "    return (household_income - base_rate) / (dependants_number * 0.1 * rate)\n"
   ]
  },
  {
   "cell_type": "markdown",
   "metadata": {},
   "source": [
    "### Therefore\n",
    "\n",
    "Given the above we can calculate:\n",
    "\n",
    "1. Your entitlement amount\n",
    "2. Your method of entitlement, either 'rates subsidy' or 'retirement subsidy'\n"
   ]
  },
  {
   "cell_type": "code",
   "execution_count": 134,
   "metadata": {},
   "outputs": [
    {
     "name": "stdout",
     "output_type": "stream",
     "text": [
      "You are entitled to a rates subsidy: $66.67\n"
     ]
    }
   ],
   "source": [
    "if is_eligible:\n",
    "    outcome_method = 'rates subsidy'\n",
    "    if is_retirement_subsidy:\n",
    "        outcome_method = 'retirement subsidy'\n",
    "\n",
    "    outcome_entitlement = rate_subsidy_calculation(household_income, number_of_dependants, amount_of_rates)\n",
    "    print('You are entitled to a {}: ${:.2f}'.format(outcome_method, outcome_entitlement))\n",
    "else:\n",
    "    print(\"You are not eligible for the rates rebate subsidy\")\n"
   ]
  },
  {
   "cell_type": "markdown",
   "metadata": {},
   "source": [
    "# Ideas/TODO\n",
    "\n",
    "- Test cases\n",
    "- make content dynamic (I.E insert relevant_date)\n",
    "- Make the question model executable\n",
    "- Make a flow diagram output from the digital ruleset"
   ]
  },
  {
   "cell_type": "code",
   "execution_count": null,
   "metadata": {},
   "outputs": [],
   "source": []
  }
 ],
 "metadata": {
  "kernelspec": {
   "display_name": "Python 3",
   "language": "python",
   "name": "python3"
  },
  "language_info": {
   "codemirror_mode": {
    "name": "ipython",
    "version": 3
   },
   "file_extension": ".py",
   "mimetype": "text/x-python",
   "name": "python",
   "nbconvert_exporter": "python",
   "pygments_lexer": "ipython3",
   "version": "3.5.2"
  }
 },
 "nbformat": 4,
 "nbformat_minor": 2
}
