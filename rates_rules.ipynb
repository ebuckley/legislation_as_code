{
 "cells": [
  {
   "cell_type": "code",
   "execution_count": 2,
   "metadata": {},
   "outputs": [],
   "source": [
    "rules = [\n",
    "#     (name, note, function_name)\n",
    "    ('income', 'must be less than X', 'income_less_than(100000)'),\n",
    "    ('dependents', 'must be less than X', 'dependents_greater_than(0)'),\n",
    "    ('rate', 'must be greater than X', 'rate_greater_than(0)'),\n",
    "#     TODO: only run these if the above are true...\n",
    "    ('minimum_payout', '', 'payout_min()'),\n",
    "    ('maximum_payout', '', 'payout_max()')\n",
    "]\n"
   ]
  },
  {
   "cell_type": "code",
   "execution_count": 3,
   "metadata": {},
   "outputs": [],
   "source": [
    "# person definition\n",
    "#        (income, dependents, rate_amount)\n",
    "person = (60000, 3, 2000)\n",
    "\n",
    "# the entitlement for the rebate\n",
    "rebate_amount = 0\n",
    "\n",
    "\n",
    "# Logic rule implementations\n",
    "def income_less_than(x):\n",
    "    if person[0] < x:\n",
    "        return True\n",
    "    return False\n",
    "\n",
    "def dependents_greater_than(x):\n",
    "    if person[1] > x:\n",
    "        return True\n",
    "    return False\n",
    "\n",
    "def rate_greater_than(amount):\n",
    "    return person[2] > amount\n",
    "\n",
    "def payout_max():\n",
    "    if person[1] > 1:\n",
    "        global rebate_amount\n",
    "        rebate_amount = 600\n",
    "    return True\n",
    "    \n",
    "def payout_min():\n",
    "    if person[1] == 1:\n",
    "        global rebate_amount\n",
    "        rebate_amount = 180\n",
    "    return True"
   ]
  },
  {
   "cell_type": "code",
   "execution_count": 4,
   "metadata": {},
   "outputs": [],
   "source": [
    "\n",
    "def get_results():\n",
    "    \"evaluate the rules and output results\"\n",
    "    results = []\n",
    "    for rule in rules:\n",
    "        result = eval(rule[2])\n",
    "        results.append(result)\n",
    "\n",
    "    if all(results):\n",
    "        print(\"You are entitled, and get a rebate of\", rebate_amount)\n",
    "    else:\n",
    "        print(\"failed because:\")\n",
    "        for i, x in enumerate(results):\n",
    "            if not x:\n",
    "                print(rules[i])\n",
    "\n",
    "\n",
    "# if all([eval(rule[2]) for rule in rules]):\n",
    "#     print(\"person is entitled to a rates rebate:\", r)\n",
    "# else:\n",
    "    "
   ]
  },
  {
   "cell_type": "code",
   "execution_count": 5,
   "metadata": {},
   "outputs": [
    {
     "name": "stdout",
     "output_type": "stream",
     "text": [
      "You are entitled, and get a rebate of 180\n"
     ]
    }
   ],
   "source": [
    "person = (60000, 1, 2000)\n",
    "get_results()"
   ]
  },
  {
   "cell_type": "markdown",
   "metadata": {},
   "source": [
    "# Question model as code \n",
    "\n",
    "The nodes defined below are our set of facts about the state of the rates rebate legislation.\n",
    "We can represent these as a question model, or as rules for a decision making framework.\n",
    "\n",
    "The array format below is the format suitable for rendering as a graph. To use it in a decision framework we want something a bit more tree-like"
   ]
  },
  {
   "cell_type": "code",
   "execution_count": 9,
   "metadata": {},
   "outputs": [],
   "source": [
    "\n",
    "nodes = [\n",
    "    ('goal', 'What is the amount\\nof rates subsidy a\\nperson is entitled to?', ['dependants', 'current_rate', 'income', 'is_qualified'], 'calculate_subsidy'),\n",
    "    ('is_qualified', 'you are qualified to recieve a subsidy', ['is_ratepayer', 'is_living_in_house', 'is_residential'], None),\n",
    "    ('is_ratepayer', 'Are you a ratepayer?', [], None),\n",
    "    ('is_living_in_house', 'Are you living in the house?', [], None),\n",
    "    ('is_residential', 'Is the house residential?', [], None),\n",
    "    ('dependants', 'What is the number of dependants the ratepayer has?', ['dependants_children', 'dependants_relatives'], None),\n",
    "    ('current_rate', 'What is the amount of rates?', [], None),\n",
    "    ('income_household', \"What is the joint homeowner's taxable income\",[], None),\n",
    "    ('income', 'What is your ratepayers income?', ['income_joint', 'income_personal', 'income_household'], None),\n",
    "    ('income_joint', \"What is the ratepayer's taxable income?\", [], None),\n",
    "    ('income_personal', \"What is the spouse/partner's income?\", ['income_spouse'], None),\n",
    "    ('income_spouse', \"Is there a spouse/partner ordinarily resident?\", [], None),\n",
    "    ('dependants_children', 'What is the number of dependent children the ratepayer has?', [], None),\n",
    "    ('dependants_relatives', 'What is the number of dependant relatives the ratepayer has?', [], None),\n",
    "]"
   ]
  },
  {
   "cell_type": "code",
   "execution_count": 10,
   "metadata": {
    "scrolled": true
   },
   "outputs": [
    {
     "data": {
      "image/svg+xml": [
       "<?xml version=\"1.0\" encoding=\"UTF-8\" standalone=\"no\"?>\n",
       "<!DOCTYPE svg PUBLIC \"-//W3C//DTD SVG 1.1//EN\"\n",
       " \"http://www.w3.org/Graphics/SVG/1.1/DTD/svg11.dtd\">\n",
       "<!-- Generated by graphviz version 2.38.0 (20140413.2041)\n",
       " -->\n",
       "<!-- Title: questions Pages: 1 -->\n",
       "<svg width=\"2574pt\" height=\"299pt\"\n",
       " viewBox=\"0.00 0.00 2573.67 298.95\" xmlns=\"http://www.w3.org/2000/svg\" xmlns:xlink=\"http://www.w3.org/1999/xlink\">\n",
       "<g id=\"graph0\" class=\"graph\" transform=\"scale(1 1) rotate(0) translate(4 294.953)\">\n",
       "<title>questions</title>\n",
       "<polygon fill=\"white\" stroke=\"none\" points=\"-4,4 -4,-294.953 2569.67,-294.953 2569.67,4 -4,4\"/>\n",
       "<!-- goal -->\n",
       "<g id=\"node1\" class=\"node\"><title>goal</title>\n",
       "<ellipse fill=\"lightgreen\" stroke=\"lightgreen\" cx=\"1339.48\" cy=\"-253.477\" rx=\"91.8478\" ry=\"37.4533\"/>\n",
       "<text text-anchor=\"middle\" x=\"1339.48\" y=\"-264.777\" font-family=\"Times,serif\" font-size=\"14.00\">What is the amount</text>\n",
       "<text text-anchor=\"middle\" x=\"1339.48\" y=\"-249.777\" font-family=\"Times,serif\" font-size=\"14.00\">of rates subsidy a</text>\n",
       "<text text-anchor=\"middle\" x=\"1339.48\" y=\"-234.777\" font-family=\"Times,serif\" font-size=\"14.00\">person is entitled to?</text>\n",
       "</g>\n",
       "<!-- dependants -->\n",
       "<g id=\"node2\" class=\"node\"><title>dependants</title>\n",
       "<ellipse fill=\"none\" stroke=\"black\" cx=\"701.48\" cy=\"-162\" rx=\"199.565\" ry=\"18\"/>\n",
       "<text text-anchor=\"middle\" x=\"701.48\" y=\"-158.3\" font-family=\"Times,serif\" font-size=\"14.00\">What is the number of dependants the ratepayer has?</text>\n",
       "</g>\n",
       "<!-- goal&#45;&gt;dependants -->\n",
       "<g id=\"edge1\" class=\"edge\"><title>goal&#45;&gt;dependants</title>\n",
       "<path fill=\"none\" stroke=\"black\" d=\"M1253.1,-240.363C1139.59,-224.442 939.938,-196.443 814.509,-178.852\"/>\n",
       "<polygon fill=\"black\" stroke=\"black\" points=\"814.875,-175.369 804.486,-177.446 813.903,-182.301 814.875,-175.369\"/>\n",
       "</g>\n",
       "<!-- current_rate -->\n",
       "<g id=\"node3\" class=\"node\"><title>current_rate</title>\n",
       "<ellipse fill=\"none\" stroke=\"black\" cx=\"1209.48\" cy=\"-162\" rx=\"113.98\" ry=\"18\"/>\n",
       "<text text-anchor=\"middle\" x=\"1209.48\" y=\"-158.3\" font-family=\"Times,serif\" font-size=\"14.00\">What is the amount of rates?</text>\n",
       "</g>\n",
       "<!-- goal&#45;&gt;current_rate -->\n",
       "<g id=\"edge2\" class=\"edge\"><title>goal&#45;&gt;current_rate</title>\n",
       "<path fill=\"none\" stroke=\"black\" d=\"M1293.65,-220.931C1276.62,-209.214 1257.67,-196.171 1242.07,-185.432\"/>\n",
       "<polygon fill=\"black\" stroke=\"black\" points=\"1244,-182.513 1233.78,-179.727 1240.03,-188.279 1244,-182.513\"/>\n",
       "</g>\n",
       "<!-- income -->\n",
       "<g id=\"node4\" class=\"node\"><title>income</title>\n",
       "<ellipse fill=\"none\" stroke=\"black\" cx=\"1469.48\" cy=\"-162\" rx=\"128.077\" ry=\"18\"/>\n",
       "<text text-anchor=\"middle\" x=\"1469.48\" y=\"-158.3\" font-family=\"Times,serif\" font-size=\"14.00\">What is your ratepayers income?</text>\n",
       "</g>\n",
       "<!-- goal&#45;&gt;income -->\n",
       "<g id=\"edge3\" class=\"edge\"><title>goal&#45;&gt;income</title>\n",
       "<path fill=\"none\" stroke=\"black\" d=\"M1385.31,-220.931C1402.34,-209.214 1421.29,-196.171 1436.89,-185.432\"/>\n",
       "<polygon fill=\"black\" stroke=\"black\" points=\"1438.92,-188.279 1445.18,-179.727 1434.96,-182.513 1438.92,-188.279\"/>\n",
       "</g>\n",
       "<!-- is_qualified -->\n",
       "<g id=\"node5\" class=\"node\"><title>is_qualified</title>\n",
       "<ellipse fill=\"none\" stroke=\"black\" cx=\"2135.48\" cy=\"-162\" rx=\"143.775\" ry=\"18\"/>\n",
       "<text text-anchor=\"middle\" x=\"2135.48\" y=\"-158.3\" font-family=\"Times,serif\" font-size=\"14.00\">you are qualified to recieve a subsidy</text>\n",
       "</g>\n",
       "<!-- goal&#45;&gt;is_qualified -->\n",
       "<g id=\"edge4\" class=\"edge\"><title>goal&#45;&gt;is_qualified</title>\n",
       "<path fill=\"none\" stroke=\"black\" d=\"M1427.71,-242.559C1572.87,-226.241 1861.92,-193.75 2022.07,-175.748\"/>\n",
       "<polygon fill=\"black\" stroke=\"black\" points=\"2022.89,-179.178 2032.43,-174.583 2022.1,-172.222 2022.89,-179.178\"/>\n",
       "</g>\n",
       "<!-- dependants_children -->\n",
       "<g id=\"node9\" class=\"node\"><title>dependants_children</title>\n",
       "<ellipse fill=\"none\" stroke=\"black\" cx=\"227.48\" cy=\"-90\" rx=\"227.46\" ry=\"18\"/>\n",
       "<text text-anchor=\"middle\" x=\"227.48\" y=\"-86.3\" font-family=\"Times,serif\" font-size=\"14.00\">What is the number of dependent children the ratepayer has?</text>\n",
       "</g>\n",
       "<!-- dependants&#45;&gt;dependants_children -->\n",
       "<g id=\"edge8\" class=\"edge\"><title>dependants&#45;&gt;dependants_children</title>\n",
       "<path fill=\"none\" stroke=\"black\" d=\"M602.403,-146.368C525.755,-135.049 419.589,-119.371 339.791,-107.586\"/>\n",
       "<polygon fill=\"black\" stroke=\"black\" points=\"340.105,-104.095 329.701,-106.096 339.083,-111.019 340.105,-104.095\"/>\n",
       "</g>\n",
       "<!-- dependants_relatives -->\n",
       "<g id=\"node10\" class=\"node\"><title>dependants_relatives</title>\n",
       "<ellipse fill=\"none\" stroke=\"black\" cx=\"701.48\" cy=\"-90\" rx=\"228.26\" ry=\"18\"/>\n",
       "<text text-anchor=\"middle\" x=\"701.48\" y=\"-86.3\" font-family=\"Times,serif\" font-size=\"14.00\">What is the number of dependant relatives the ratepayer has?</text>\n",
       "</g>\n",
       "<!-- dependants&#45;&gt;dependants_relatives -->\n",
       "<g id=\"edge9\" class=\"edge\"><title>dependants&#45;&gt;dependants_relatives</title>\n",
       "<path fill=\"none\" stroke=\"black\" d=\"M701.48,-143.697C701.48,-135.983 701.48,-126.712 701.48,-118.112\"/>\n",
       "<polygon fill=\"black\" stroke=\"black\" points=\"704.98,-118.104 701.48,-108.104 697.98,-118.104 704.98,-118.104\"/>\n",
       "</g>\n",
       "<!-- income_household -->\n",
       "<g id=\"node11\" class=\"node\"><title>income_household</title>\n",
       "<ellipse fill=\"none\" stroke=\"black\" cx=\"1123.48\" cy=\"-90\" rx=\"176.269\" ry=\"18\"/>\n",
       "<text text-anchor=\"middle\" x=\"1123.48\" y=\"-86.3\" font-family=\"Times,serif\" font-size=\"14.00\">What is the joint homeowner&#39;s taxable income</text>\n",
       "</g>\n",
       "<!-- income&#45;&gt;income_household -->\n",
       "<g id=\"edge12\" class=\"edge\"><title>income&#45;&gt;income_household</title>\n",
       "<path fill=\"none\" stroke=\"black\" d=\"M1399.46,-146.834C1344.49,-135.713 1267.7,-120.178 1209.08,-108.318\"/>\n",
       "<polygon fill=\"black\" stroke=\"black\" points=\"1209.59,-104.85 1199.09,-106.298 1208.2,-111.711 1209.59,-104.85\"/>\n",
       "</g>\n",
       "<!-- income_joint -->\n",
       "<g id=\"node12\" class=\"node\"><title>income_joint</title>\n",
       "<ellipse fill=\"none\" stroke=\"black\" cx=\"1469.48\" cy=\"-90\" rx=\"152.173\" ry=\"18\"/>\n",
       "<text text-anchor=\"middle\" x=\"1469.48\" y=\"-86.3\" font-family=\"Times,serif\" font-size=\"14.00\">What is the ratepayer&#39;s taxable income?</text>\n",
       "</g>\n",
       "<!-- income&#45;&gt;income_joint -->\n",
       "<g id=\"edge10\" class=\"edge\"><title>income&#45;&gt;income_joint</title>\n",
       "<path fill=\"none\" stroke=\"black\" d=\"M1469.48,-143.697C1469.48,-135.983 1469.48,-126.712 1469.48,-118.112\"/>\n",
       "<polygon fill=\"black\" stroke=\"black\" points=\"1472.98,-118.104 1469.48,-108.104 1465.98,-118.104 1472.98,-118.104\"/>\n",
       "</g>\n",
       "<!-- income_personal -->\n",
       "<g id=\"node13\" class=\"node\"><title>income_personal</title>\n",
       "<ellipse fill=\"none\" stroke=\"black\" cx=\"1782.48\" cy=\"-90\" rx=\"142.975\" ry=\"18\"/>\n",
       "<text text-anchor=\"middle\" x=\"1782.48\" y=\"-86.3\" font-family=\"Times,serif\" font-size=\"14.00\">What is the spouse/partner&#39;s income?</text>\n",
       "</g>\n",
       "<!-- income&#45;&gt;income_personal -->\n",
       "<g id=\"edge11\" class=\"edge\"><title>income&#45;&gt;income_personal</title>\n",
       "<path fill=\"none\" stroke=\"black\" d=\"M1534.71,-146.411C1584.54,-135.269 1653.32,-119.885 1705.78,-108.153\"/>\n",
       "<polygon fill=\"black\" stroke=\"black\" points=\"1706.72,-111.53 1715.71,-105.932 1705.19,-104.699 1706.72,-111.53\"/>\n",
       "</g>\n",
       "<!-- is_ratepayer -->\n",
       "<g id=\"node6\" class=\"node\"><title>is_ratepayer</title>\n",
       "<ellipse fill=\"none\" stroke=\"black\" cx=\"2028.48\" cy=\"-90\" rx=\"85.2851\" ry=\"18\"/>\n",
       "<text text-anchor=\"middle\" x=\"2028.48\" y=\"-86.3\" font-family=\"Times,serif\" font-size=\"14.00\">Are you a ratepayer?</text>\n",
       "</g>\n",
       "<!-- is_qualified&#45;&gt;is_ratepayer -->\n",
       "<g id=\"edge5\" class=\"edge\"><title>is_qualified&#45;&gt;is_ratepayer</title>\n",
       "<path fill=\"none\" stroke=\"black\" d=\"M2109.85,-144.233C2095.59,-134.901 2077.65,-123.17 2062.26,-113.097\"/>\n",
       "<polygon fill=\"black\" stroke=\"black\" points=\"2063.82,-109.934 2053.53,-107.388 2059.98,-115.792 2063.82,-109.934\"/>\n",
       "</g>\n",
       "<!-- is_living_in_house -->\n",
       "<g id=\"node7\" class=\"node\"><title>is_living_in_house</title>\n",
       "<ellipse fill=\"none\" stroke=\"black\" cx=\"2243.48\" cy=\"-90\" rx=\"111.581\" ry=\"18\"/>\n",
       "<text text-anchor=\"middle\" x=\"2243.48\" y=\"-86.3\" font-family=\"Times,serif\" font-size=\"14.00\">Are you living in the house?</text>\n",
       "</g>\n",
       "<!-- is_qualified&#45;&gt;is_living_in_house -->\n",
       "<g id=\"edge6\" class=\"edge\"><title>is_qualified&#45;&gt;is_living_in_house</title>\n",
       "<path fill=\"none\" stroke=\"black\" d=\"M2161.35,-144.233C2175.64,-134.969 2193.58,-123.34 2209.05,-113.316\"/>\n",
       "<polygon fill=\"black\" stroke=\"black\" points=\"2211.33,-116.006 2217.82,-107.63 2207.53,-110.132 2211.33,-116.006\"/>\n",
       "</g>\n",
       "<!-- is_residential -->\n",
       "<g id=\"node8\" class=\"node\"><title>is_residential</title>\n",
       "<ellipse fill=\"none\" stroke=\"black\" cx=\"2469.48\" cy=\"-90\" rx=\"96.3833\" ry=\"18\"/>\n",
       "<text text-anchor=\"middle\" x=\"2469.48\" y=\"-86.3\" font-family=\"Times,serif\" font-size=\"14.00\">Is the house residential?</text>\n",
       "</g>\n",
       "<!-- is_qualified&#45;&gt;is_residential -->\n",
       "<g id=\"edge7\" class=\"edge\"><title>is_qualified&#45;&gt;is_residential</title>\n",
       "<path fill=\"none\" stroke=\"black\" d=\"M2205.9,-146.24C2262.33,-134.415 2341.16,-117.894 2397.89,-106.005\"/>\n",
       "<polygon fill=\"black\" stroke=\"black\" points=\"2398.79,-109.392 2407.85,-103.915 2397.35,-102.541 2398.79,-109.392\"/>\n",
       "</g>\n",
       "<!-- income_spouse -->\n",
       "<g id=\"node14\" class=\"node\"><title>income_spouse</title>\n",
       "<ellipse fill=\"none\" stroke=\"black\" cx=\"1782.48\" cy=\"-18\" rx=\"168.17\" ry=\"18\"/>\n",
       "<text text-anchor=\"middle\" x=\"1782.48\" y=\"-14.3\" font-family=\"Times,serif\" font-size=\"14.00\">Is there a spouse/partner ordinarily resident?</text>\n",
       "</g>\n",
       "<!-- income_personal&#45;&gt;income_spouse -->\n",
       "<g id=\"edge13\" class=\"edge\"><title>income_personal&#45;&gt;income_spouse</title>\n",
       "<path fill=\"none\" stroke=\"black\" d=\"M1782.48,-71.6966C1782.48,-63.9827 1782.48,-54.7125 1782.48,-46.1124\"/>\n",
       "<polygon fill=\"black\" stroke=\"black\" points=\"1785.98,-46.1043 1782.48,-36.1043 1778.98,-46.1044 1785.98,-46.1043\"/>\n",
       "</g>\n",
       "</g>\n",
       "</svg>\n"
      ],
      "text/plain": [
       "<graphviz.dot.Digraph at 0x7fd9fd7458d0>"
      ]
     },
     "execution_count": 10,
     "metadata": {},
     "output_type": "execute_result"
    }
   ],
   "source": [
    "from graphviz import *\n",
    "\n",
    "\n",
    "  \n",
    "questions = Digraph(name='questions')\n",
    "questions.attr(overlap='false')\n",
    "\n",
    "for name, description, dependants, fn in nodes:\n",
    "    edges = [(name, d) for d in dependants]\n",
    "    if name == 'goal':\n",
    "        questions.node(name, description, style='filled', color='lightgreen')\n",
    "    questions.node(name, description)\n",
    "    questions.edges(edges)\n",
    "\n",
    "questions.render('dist/questions.graph')\n",
    "questions"
   ]
  },
  {
   "cell_type": "markdown",
   "metadata": {},
   "source": [
    "# Rates rebate decision model as code\n",
    "\n",
    "Using the documentation [here](https://docs.google.com/document/d/1b4RxWRqXb65X2POi4NMRMMrSMJQ3bgKO9SgRGjJev8E/edit) as a basis for implementing literate python for the implementation of the rates rebate calculation.\n",
    "\n",
    "\n",
    "For the purpose of this investigation we are ignoring the new Section 7A (Refund to resident of retirement village of contribution towards rates)\n"
   ]
  },
  {
   "cell_type": "code",
   "execution_count": 1,
   "metadata": {},
   "outputs": [],
   "source": [
    "# definitions\n",
    "from datetime import date\n",
    "import datetime"
   ]
  },
  {
   "cell_type": "markdown",
   "metadata": {},
   "source": [
    "### _Ratepayer_ means:\n",
    "\n",
    "At the _relevant_date_:\n",
    "\n",
    "1. A person is the ratepayer of a property if the person appears as the ratepayer on the rating register of the council the person applies to.\n",
    "\n",
    "**OR**\n",
    "\n",
    "2. A person is the ratepayer of a property if the person lives in a retirement home."
   ]
  },
  {
   "cell_type": "code",
   "execution_count": 2,
   "metadata": {},
   "outputs": [],
   "source": [
    "is_ratepayer = False\n",
    "\n",
    "def is_ratepayer(person_exists_on_ratepayer_register, is_retirement_village_resident):\n",
    "    return person_exists_on_ratepayer_register or is_retirement_village_resident\n"
   ]
  },
  {
   "cell_type": "markdown",
   "metadata": {},
   "source": [
    "### _Residential Property_ means:\n",
    "\n",
    "(a) a rating unit under the Local Government (Rating) Act 2002 that is used as the usual place of residence of the ratepayer at the commencement of the rating year in respect of which an application for a rebate under this Act is made, but does not include any unit that is also used principally for commercial or industrial or business or farming purposes; or\n",
    "\n",
    "(b) a rating unit under the Local Government (Rating) Act 2002 that is used as a retirement village at the commencement of the rating year in respect of which an application for a refund under section 7A is made"
   ]
  },
  {
   "cell_type": "code",
   "execution_count": 3,
   "metadata": {},
   "outputs": [],
   "source": [
    "\n",
    "def residential_property(usual_place_of_residence, is_ratepayer_of_property, is_retirement_village, purpose_is_farming, purpose_is_industrial):\n",
    "    \"\"\"\n",
    "    A function to calculate if the person has a residential property\n",
    "    \n",
    "    usual_place_of_residence: Is this your your place of residence on the relevant_date? yes/no\n",
    "    is_ratepayer_of_property: Is this a property you pay rates for? yes/No\n",
    "    is_retirement_village: Is the person living in a retirement_village? yes/no\n",
    "    purpose_is_farming: Is the main purpose of the property farming related?\n",
    "    purpose_is_industrial: Is the main purpose of the property industrial?\n",
    "    \"\"\"\n",
    "    if is_retirement_village:\n",
    "            return True\n",
    "    if not purpose_is_farming and not purpose_is_industrial:\n",
    "        if usual_place_of_residence and is_ratepayer_of_property:\n",
    "            return True\n",
    "    return False\n",
    "    "
   ]
  },
  {
   "cell_type": "markdown",
   "metadata": {},
   "source": [
    "### _Relevant date_ means:\n",
    "\n",
    "The relevant date is the date at the commencement of the rating year the person applies for the rating subsidy.\n",
    "\n",
    "The date at the commencement of the rating year is 1 July of the rating year.\n",
    "\n"
   ]
  },
  {
   "cell_type": "code",
   "execution_count": 4,
   "metadata": {},
   "outputs": [],
   "source": [
    "relevant_date = date(date.today().year, 7, 1)"
   ]
  },
  {
   "cell_type": "markdown",
   "metadata": {},
   "source": [
    "### _Eligibility_ means:\n",
    "\n",
    "- "
   ]
  },
  {
   "cell_type": "code",
   "execution_count": 5,
   "metadata": {},
   "outputs": [],
   "source": [
    "def is_eligible():\n",
    "    \"Determine if the person is eligble for the rates_calculation\"\n",
    "    if residential_property():\n",
    "        return True\n",
    "    if is_retirement_village:\n",
    "        return True\n",
    "\n",
    "    if is_ratepayer and is_residential_property:\n",
    "        return True\n",
    "\n",
    "    return False\n",
    "    \n",
    "    "
   ]
  },
  {
   "cell_type": "markdown",
   "metadata": {},
   "source": [
    "# Rates calculation\n",
    "Rates subsidy = household income - baserate / dependents.number * 10% * rates \n",
    "\n",
    "- base_rate is a constant included in the calculation with the value 15,0000.\n"
   ]
  },
  {
   "cell_type": "code",
   "execution_count": 6,
   "metadata": {},
   "outputs": [],
   "source": [
    "base_rate = 15000\n",
    "def rate_subsidy_calculation(household_income, dependants_number, rate):\n",
    "    return (household_income - base_rate) / (dependants_number * 0.1 * rate)\n"
   ]
  },
  {
   "cell_type": "code",
   "execution_count": 7,
   "metadata": {},
   "outputs": [
    {
     "data": {
      "text/plain": [
       "75.0"
      ]
     },
     "execution_count": 7,
     "metadata": {},
     "output_type": "execute_result"
    }
   ],
   "source": [
    "rate_subsidy_calculation(45000, 2, 2000)"
   ]
  },
  {
   "cell_type": "code",
   "execution_count": null,
   "metadata": {},
   "outputs": [],
   "source": []
  },
  {
   "cell_type": "code",
   "execution_count": null,
   "metadata": {},
   "outputs": [],
   "source": []
  }
 ],
 "metadata": {
  "kernelspec": {
   "display_name": "Python 3",
   "language": "python",
   "name": "python3"
  },
  "language_info": {
   "codemirror_mode": {
    "name": "ipython",
    "version": 3
   },
   "file_extension": ".py",
   "mimetype": "text/x-python",
   "name": "python",
   "nbconvert_exporter": "python",
   "pygments_lexer": "ipython3",
   "version": "3.5.2"
  }
 },
 "nbformat": 4,
 "nbformat_minor": 2
}
